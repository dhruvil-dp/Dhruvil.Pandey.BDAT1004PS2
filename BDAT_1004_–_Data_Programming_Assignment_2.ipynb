{
  "nbformat": 4,
  "nbformat_minor": 0,
  "metadata": {
    "colab": {
      "provenance": []
    },
    "kernelspec": {
      "name": "python3",
      "display_name": "Python 3"
    },
    "language_info": {
      "name": "python"
    }
  },
  "cells": [
    {
      "cell_type": "markdown",
      "source": [
        "#**Question 1**"
      ],
      "metadata": {
        "id": "Nag8VHm8TFYr"
      }
    },
    {
      "cell_type": "code",
      "execution_count": 1,
      "metadata": {
        "id": "_jTNFAwWS-sA"
      },
      "outputs": [],
      "source": [
        "a = 0\n",
        "def b():\n",
        "    global a\n",
        "    a = c(a)\n",
        "\n",
        "def c(a):\n",
        "    return a + 2"
      ]
    },
    {
      "cell_type": "code",
      "source": [
        "b()"
      ],
      "metadata": {
        "id": "UjqZ1SxHTvWT"
      },
      "execution_count": 2,
      "outputs": []
    },
    {
      "cell_type": "code",
      "source": [
        "b()"
      ],
      "metadata": {
        "id": "x6idXkqFTw-H"
      },
      "execution_count": 3,
      "outputs": []
    },
    {
      "cell_type": "code",
      "source": [
        "b()"
      ],
      "metadata": {
        "id": "w-oR8mqgTx9W"
      },
      "execution_count": 4,
      "outputs": []
    },
    {
      "cell_type": "code",
      "source": [
        "a"
      ],
      "metadata": {
        "colab": {
          "base_uri": "https://localhost:8080/"
        },
        "id": "3qB2d6sbTy9o",
        "outputId": "009004bf-ccbf-4018-dac6-0ed7a3d5d7ff"
      },
      "execution_count": 5,
      "outputs": [
        {
          "output_type": "execute_result",
          "data": {
            "text/plain": [
              "6"
            ]
          },
          "metadata": {},
          "execution_count": 5
        }
      ]
    },
    {
      "cell_type": "markdown",
      "source": [
        "**1st execution of b():**\n",
        "\n",
        "The global keyword is to determine that variable a is a global variable instead of a local variable.\n",
        "\n",
        "After that c(a) function is called by passing the current value of a which iis intially zero. Inside c function 2 is added to the a=0 so 2 returned from the fucntion and now the value of global variable is 2.\n",
        "\n",
        "\n",
        "**2nd execution of b():**\n",
        "\n",
        "The function b() is called again and global keyword is used to indicate that global variable a is reffered. Now the function c is called with current value of a which is 2.\n",
        "\n",
        "When function c is executed, 2 is added to the current value of a which now becomes 4, so 4 was returned by the function. Now the value of global variable a is 4.\n",
        "\n",
        "**3rd execution of b():**\n",
        "\n",
        "When the function b() is called for the third time again global keyword is used to indicate global variable a. Aferthat, function c() is called by passing the current value of a which is 4.\n",
        "\n",
        "When fucntion c() is called 2 is added to the current value of a which is 4. Now the resulting value is 6 and 6 will be returned by c(a) function.\n",
        "\n",
        "Now the value of global variable a is 6. So when we check the value a, we will get 6 in result."
      ],
      "metadata": {
        "id": "Yk3rbBBmT8vi"
      }
    },
    {
      "cell_type": "markdown",
      "source": [
        "#**Question 2**\n"
      ],
      "metadata": {
        "id": "i0IjiNt-YGXz"
      }
    },
    {
      "cell_type": "code",
      "source": [
        "def fileLength(fileName):\n",
        "    try:\n",
        "      file = open(fileName)\n",
        "      contents = file.read()\n",
        "      file.close()\n",
        "      print(len(contents))\n",
        "    except FileNotFoundError:\n",
        "      print(f\"File {fileName} not found\")"
      ],
      "metadata": {
        "id": "VFg5W2mRYMmK"
      },
      "execution_count": 6,
      "outputs": []
    },
    {
      "cell_type": "code",
      "source": [
        "fileLength('midterm.py')"
      ],
      "metadata": {
        "colab": {
          "base_uri": "https://localhost:8080/"
        },
        "id": "p0ayM5Q2Zj_X",
        "outputId": "39ee30af-e255-41d0-87d6-d41305d790ae"
      },
      "execution_count": 7,
      "outputs": [
        {
          "output_type": "stream",
          "name": "stdout",
          "text": [
            "123\n"
          ]
        }
      ]
    },
    {
      "cell_type": "code",
      "source": [
        "fileLength('idterm.py')"
      ],
      "metadata": {
        "colab": {
          "base_uri": "https://localhost:8080/"
        },
        "id": "pyXZDYomZlrA",
        "outputId": "c3b7db2a-af57-4474-9e55-7fddea123e28"
      },
      "execution_count": 8,
      "outputs": [
        {
          "output_type": "stream",
          "name": "stdout",
          "text": [
            "File idterm.py not found\n"
          ]
        }
      ]
    },
    {
      "cell_type": "markdown",
      "source": [
        "#**Question 3**\n"
      ],
      "metadata": {
        "id": "0uTJFNS9ad1I"
      }
    },
    {
      "cell_type": "markdown",
      "source": [
        "###Code for class Marsupial"
      ],
      "metadata": {
        "id": "72zIVReveLxO"
      }
    },
    {
      "cell_type": "code",
      "source": [
        "class Marsupial: # class Marsupial represents a pouch that can hold items in it\n",
        "\n",
        "    # Constructor to initializes an empty list named contents to store items in the pouch\n",
        "    def __init__(self):\n",
        "      self.contents = []\n",
        "\n",
        "    # Method to store an item into the pouch\n",
        "    def put_in_pouch(self, item):\n",
        "      self.contents.append(item)\n",
        "\n",
        "    # Method to display the cuurent contents in the pouch\n",
        "    def pouch_contents(self):\n",
        "      print(self.contents)\n"
      ],
      "metadata": {
        "id": "G8Drj6QWaqtA"
      },
      "execution_count": 9,
      "outputs": []
    },
    {
      "cell_type": "code",
      "source": [
        "m = Marsupial()"
      ],
      "metadata": {
        "id": "mqIgKdPScQgM"
      },
      "execution_count": 10,
      "outputs": []
    },
    {
      "cell_type": "code",
      "source": [
        "m.put_in_pouch('doll')\n",
        "m.put_in_pouch('firetruck')\n",
        "m.put_in_pouch('kitten')\n",
        "m.pouch_contents()"
      ],
      "metadata": {
        "colab": {
          "base_uri": "https://localhost:8080/"
        },
        "id": "lmghXGlwcU0a",
        "outputId": "7869eec5-8228-46b6-8747-d27f4a3c0004"
      },
      "execution_count": 11,
      "outputs": [
        {
          "output_type": "stream",
          "name": "stdout",
          "text": [
            "['doll', 'firetruck', 'kitten']\n"
          ]
        }
      ]
    },
    {
      "cell_type": "markdown",
      "source": [
        "###Code for class Kangaroo"
      ],
      "metadata": {
        "id": "YAViTkaKeQqd"
      }
    },
    {
      "cell_type": "code",
      "source": [
        "class Kangaroo(Marsupial):\n",
        "\n",
        "  # Constructor for class Kangaroo that initialize a Kangaroo with coordinates (x, y)\n",
        "  # Also initoalize an empty pouch using Marsupial constructor\n",
        "  def __init__(self, x, y):\n",
        "    Marsupial.__init__(self)\n",
        "    self.x = x\n",
        "    self.y = y\n",
        "\n",
        "  # Method to update the coordinates of Kangaroo\n",
        "  def jump(self, x, y):\n",
        "    self.x += x\n",
        "    self.y += y\n",
        "\n",
        "  # Method to display the current coordinates of Kangaroo\n",
        "  def __str__(self):\n",
        "    return f\"I am a Kangaroo located at coordinates ({self.x},{self.y})\""
      ],
      "metadata": {
        "id": "Yi9T7sFScWoQ"
      },
      "execution_count": 16,
      "outputs": []
    },
    {
      "cell_type": "code",
      "source": [
        "k = Kangaroo(0,0)\n",
        "print(k)"
      ],
      "metadata": {
        "colab": {
          "base_uri": "https://localhost:8080/"
        },
        "id": "kMqZhwfAd1EO",
        "outputId": "7ac85c4c-e917-4b28-dd2f-bf7be637dc96"
      },
      "execution_count": 17,
      "outputs": [
        {
          "output_type": "stream",
          "name": "stdout",
          "text": [
            "I am a Kangaroo located at coordinates (0,0)\n"
          ]
        }
      ]
    },
    {
      "cell_type": "code",
      "source": [
        "k.put_in_pouch('doll')\n",
        "k.put_in_pouch('firetruck')\n",
        "k.put_in_pouch('kitten')\n",
        "k.pouch_contents()"
      ],
      "metadata": {
        "colab": {
          "base_uri": "https://localhost:8080/"
        },
        "id": "ws6TmPWSd7lM",
        "outputId": "b98f3f07-6cd6-4c2f-ef33-cda45efec589"
      },
      "execution_count": 18,
      "outputs": [
        {
          "output_type": "stream",
          "name": "stdout",
          "text": [
            "['doll', 'firetruck', 'kitten']\n"
          ]
        }
      ]
    },
    {
      "cell_type": "code",
      "source": [
        "k.jump(1,0)\n",
        "k.jump(1,0)\n",
        "k.jump(1,0)\n",
        "print(k)"
      ],
      "metadata": {
        "colab": {
          "base_uri": "https://localhost:8080/"
        },
        "id": "Wt9PDKMOd-7A",
        "outputId": "feefd85c-0d43-4b66-bfbe-bf504af72d67"
      },
      "execution_count": 19,
      "outputs": [
        {
          "output_type": "stream",
          "name": "stdout",
          "text": [
            "I am a Kangaroo located at coordinates (3,0)\n"
          ]
        }
      ]
    },
    {
      "cell_type": "markdown",
      "source": [
        "#**Question 4**"
      ],
      "metadata": {
        "id": "FhnU-qI4eTVT"
      }
    },
    {
      "cell_type": "code",
      "source": [
        "def collatz(x):\n",
        "\n",
        "  if type(x) is not int or x <= 0 :\n",
        "    print(\"Please enter a positive number\")\n",
        "    return\n",
        "\n",
        "  print(int(x))\n",
        "\n",
        "  if x == 1: return\n",
        "\n",
        "  x = x // 2 if x % 2 == 0 else 3 * x + 1\n",
        "\n",
        "  collatz(int(x))"
      ],
      "metadata": {
        "id": "S0-K1Q_5eWvl"
      },
      "execution_count": 35,
      "outputs": []
    },
    {
      "cell_type": "code",
      "source": [
        "collatz(1)"
      ],
      "metadata": {
        "colab": {
          "base_uri": "https://localhost:8080/"
        },
        "id": "K9t1gzHCfLD2",
        "outputId": "5a6b8fee-c907-4994-d360-27e40ce1754a"
      },
      "execution_count": 36,
      "outputs": [
        {
          "output_type": "stream",
          "name": "stdout",
          "text": [
            "1\n"
          ]
        }
      ]
    },
    {
      "cell_type": "code",
      "source": [
        "collatz(10)"
      ],
      "metadata": {
        "colab": {
          "base_uri": "https://localhost:8080/"
        },
        "id": "gN71K3XHfMwX",
        "outputId": "d1b53f35-c39c-4d91-8b4c-9068a963f092"
      },
      "execution_count": 37,
      "outputs": [
        {
          "output_type": "stream",
          "name": "stdout",
          "text": [
            "10\n",
            "5\n",
            "16\n",
            "8\n",
            "4\n",
            "2\n",
            "1\n"
          ]
        }
      ]
    },
    {
      "cell_type": "markdown",
      "source": [
        "#**Question 5**"
      ],
      "metadata": {
        "id": "yzQo68dwhpWA"
      }
    },
    {
      "cell_type": "code",
      "source": [
        "def binary(n, binary_string = ''):\n",
        "\n",
        "    # Display error message if x is less than 0 or not int\n",
        "    if n < 0 or type(n) is not int:\n",
        "        print(\"Enter a non-negative integer\")\n",
        "        return\n",
        "    # If n is less than or equal to 1:\n",
        "    #   - Print the binary representation of the current bit (n % 2) concatenated with the existing binary_string.\n",
        "    #   - Use end='' to avoid printing a newline.\n",
        "    # Otherwise:\n",
        "    #   - Make a recursive call to binary with the updated value of n and binary_string.\n",
        "    print(str(n % 2) + binary_string, end='') if n <= 1 else binary(n // 2, str(n % 2) + binary_string)"
      ],
      "metadata": {
        "id": "1M-jYPccht2S"
      },
      "execution_count": 122,
      "outputs": []
    },
    {
      "cell_type": "code",
      "source": [
        "binary(0)\n"
      ],
      "metadata": {
        "colab": {
          "base_uri": "https://localhost:8080/"
        },
        "id": "d8St-EJOh4Cc",
        "outputId": "e994435c-f17d-4db5-86b1-63a876ff80b5"
      },
      "execution_count": 123,
      "outputs": [
        {
          "output_type": "stream",
          "name": "stdout",
          "text": [
            "0"
          ]
        }
      ]
    },
    {
      "cell_type": "code",
      "source": [
        "binary(1)"
      ],
      "metadata": {
        "colab": {
          "base_uri": "https://localhost:8080/"
        },
        "id": "FsD33SXth4zg",
        "outputId": "08ecf28f-22dc-4957-f214-c8fc31d79bca"
      },
      "execution_count": 124,
      "outputs": [
        {
          "output_type": "stream",
          "name": "stdout",
          "text": [
            "1"
          ]
        }
      ]
    },
    {
      "cell_type": "code",
      "source": [
        "binary(3)"
      ],
      "metadata": {
        "colab": {
          "base_uri": "https://localhost:8080/"
        },
        "id": "lOnz8jFrh8yE",
        "outputId": "5808a9dc-3b3e-49cc-defb-9802a3eb21c8"
      },
      "execution_count": 125,
      "outputs": [
        {
          "output_type": "stream",
          "name": "stdout",
          "text": [
            "11"
          ]
        }
      ]
    },
    {
      "cell_type": "code",
      "source": [
        "binary(9)"
      ],
      "metadata": {
        "colab": {
          "base_uri": "https://localhost:8080/"
        },
        "id": "COCKa7etmJ4N",
        "outputId": "141baa90-3af9-42ab-bde3-eb16e8ff046f"
      },
      "execution_count": 126,
      "outputs": [
        {
          "output_type": "stream",
          "name": "stdout",
          "text": [
            "1001"
          ]
        }
      ]
    },
    {
      "cell_type": "markdown",
      "source": [
        "#**Questin 6**"
      ],
      "metadata": {
        "id": "3R2_b1CQoDM8"
      }
    },
    {
      "cell_type": "code",
      "source": [
        "from html.parser import HTMLParser\n",
        "import re\n",
        "\n",
        "class HeadingParser(HTMLParser):\n",
        "\n",
        "    # Constructor method that initialize the Heading Parser object\n",
        "    def __init__(self):\n",
        "      HTMLParser.__init__(self)\n",
        "\n",
        "      # Flag to track if we are inside a heading\n",
        "      self.in_heading = False\n",
        "\n",
        "      # Variable to track the indentation level of the heading\n",
        "      self.tab_count = 0\n",
        "\n",
        "    # Method called when a start tag is found\n",
        "    def handle_starttag(self, tag, attrs):\n",
        "\n",
        "      # Check if the tag is a heading tag\n",
        "      if re.match(r'^h\\d+$', tag):\n",
        "\n",
        "        # Set the in_heading flag to True to indicate that we are inside a heading\n",
        "        self.in_heading = True\n",
        "\n",
        "        # Set the tab_count to the level of the heading\n",
        "        # For example h1 corresponds to 0 tabs, h2 corresponds to 1 tab,...\n",
        "        self.tab_count = int(tag[-1]) - 1\n",
        "\n",
        "    # Method called when an end tag is encountered\n",
        "    def handle_endtag(self, tag):\n",
        "\n",
        "      # Check if the tag is a heading tag\n",
        "      if self.in_heading:\n",
        "\n",
        "        # Set the in_heading flag to False to indicate that we are no longer inside a heading\n",
        "        self.in_heading = False\n",
        "\n",
        "    # Method to handle the data within an element\n",
        "    def handle_data(self, data):\n",
        "\n",
        "      # Check if we are inside of a heading\n",
        "      if self.in_heading:\n",
        "        # Print the heading text with the appropriate indentation based on the tab count\n",
        "        print('\\t' * self.tab_count, data)\n"
      ],
      "metadata": {
        "id": "DlGaua0UoGkR"
      },
      "execution_count": 158,
      "outputs": []
    },
    {
      "cell_type": "code",
      "source": [
        "with open('w3c.html', 'r') as infile:\n",
        "    content = infile.read()"
      ],
      "metadata": {
        "id": "aqKi1xCDpBmk"
      },
      "execution_count": 163,
      "outputs": []
    },
    {
      "cell_type": "code",
      "source": [
        "hp = HeadingParser()\n",
        "hp.feed(content)"
      ],
      "metadata": {
        "colab": {
          "base_uri": "https://localhost:8080/"
        },
        "id": "Fom633sKpDaJ",
        "outputId": "31d5ce55-5629-4204-f639-defc63cd7801"
      },
      "execution_count": 164,
      "outputs": [
        {
          "output_type": "stream",
          "name": "stdout",
          "text": [
            " W3C Mission\n",
            "\t Principles\n"
          ]
        }
      ]
    },
    {
      "cell_type": "markdown",
      "source": [
        "#**Question 7**"
      ],
      "metadata": {
        "id": "xqC0y9SouA-7"
      }
    },
    {
      "cell_type": "code",
      "source": [
        "from urllib.request import urlopen, HTTPError\n",
        "from urllib.parse import urljoin\n",
        "from html.parser import HTMLParser\n",
        "\n",
        "class MyHTMLParser(HTMLParser):\n",
        "    def __init__(self, url):\n",
        "      # Constructor method that initializes the MyHTMLParser object\n",
        "      HTMLParser.__init__(self)\n",
        "      # List to store the extracted links\n",
        "      self.links = []\n",
        "      self.url = url\n",
        "      self.url = url\n",
        "\n",
        "    def handle_starttag(self, tag, attrs):\n",
        "        if tag == 'a':\n",
        "          for attr in attrs:\n",
        "            if attr[0] == 'href':\n",
        "              absolute = urljoin(self.url, attr[1].strip())\n",
        "              if absolute[:4] == 'http':\n",
        "                self.links.append(absolute)\n",
        "\n",
        "    def get_links(self):\n",
        "      # Method to retrieve the extracted links\n",
        "      return self.links\n",
        "\n",
        "def webdir(url, depth, indent=0):\n",
        "    try:\n",
        "\n",
        "        # Send a request to the URL and retrieve the response\n",
        "        with urlopen(url) as response:\n",
        "          # Read the content of the response and decode it\n",
        "          content = response.read().decode('utf-8', errors='ignore')\n",
        "\n",
        "        # Print each link with appropriate indentation\n",
        "        print('\\t' * indent + url)\n",
        "\n",
        "        if depth > 0:\n",
        "            # Create an instance of MyHTMLParser and pass the URL to it\n",
        "            parser = MyHTMLParser(url)\n",
        "            # Parse the HTML content\n",
        "            parser.feed(content)\n",
        "            # Get the extracted links from the parser\n",
        "            links = parser.get_links()\n",
        "\n",
        "            for link in links:\n",
        "                webdir(link, depth - 1, indent + 1)\n",
        "\n",
        "    except HTTPError as e:\n",
        "        print(f\"Error accessing {url}: HTTP Error {e.code} - {e.reason}\")\n",
        "    except Exception as e:\n",
        "        print(f\"Error accessing {url}: {e}\")"
      ],
      "metadata": {
        "id": "3h22ukkFvsos"
      },
      "execution_count": 190,
      "outputs": []
    },
    {
      "cell_type": "code",
      "source": [
        "webdir('http://reed.cs.depaul.edu/lperkovic/csc242/test1.html', 2, 0)"
      ],
      "metadata": {
        "colab": {
          "base_uri": "https://localhost:8080/"
        },
        "id": "MBNUafi_0DAK",
        "outputId": "64097f63-dd6b-4fad-8b0f-0ce2dc1d46bd"
      },
      "execution_count": 191,
      "outputs": [
        {
          "output_type": "stream",
          "name": "stdout",
          "text": [
            "Error accessing http://reed.cs.depaul.edu/lperkovic/csc242/test1.html: HTTP Error 404 - \n"
          ]
        }
      ]
    },
    {
      "cell_type": "code",
      "source": [
        "webdir('http://reed.cs.depaul.edu/lperkovic/csc242/lecture1/', 2, 0)"
      ],
      "metadata": {
        "colab": {
          "base_uri": "https://localhost:8080/"
        },
        "id": "Zb1HE9-A0DGG",
        "outputId": "88a59081-7508-4ec8-c27b-f40b2287e94f"
      },
      "execution_count": 192,
      "outputs": [
        {
          "output_type": "stream",
          "name": "stdout",
          "text": [
            "http://reed.cs.depaul.edu/lperkovic/csc242/lecture1/\n",
            "\thttp://reed.cs.depaul.edu/lperkovic/csc242/lecture1/Ch7.pptx\n",
            "\thttp://reed.cs.depaul.edu/lperkovic/csc242/lecture1/caseStudy6/blackjack.py\n",
            "\thttp://reed.cs.depaul.edu/lperkovic/csc242/lecture1/emoticon.py\n",
            "\thttp://reed.cs.depaul.edu/lperkovic/csc242/lecture1/chapter7.zip\n"
          ]
        }
      ]
    },
    {
      "cell_type": "markdown",
      "source": [
        "#**Question 8**"
      ],
      "metadata": {
        "id": "F2gcaDMn0UGE"
      }
    },
    {
      "cell_type": "code",
      "source": [
        "import sqlite3\n",
        "from tabulate import tabulate\n",
        "# Connect to a SQLite database (this will create a new database file if it doesn't exist)\n",
        "conn = sqlite3.connect('weatherdata.db')\n",
        "\n",
        "# Create a cursor object to execute SQL statements\n",
        "cursor = conn.cursor()\n",
        "\n",
        "# Create the Weather table\n",
        "cursor.execute('''\n",
        "CREATE TABLE Weather (\n",
        "    City TEXT,\n",
        "    Country TEXT,\n",
        "    Season TEXT,\n",
        "    Temperature_C REAL,\n",
        "    Rainfall_mm REAL\n",
        ")\n",
        "''')\n",
        "\n",
        "# Insert records into the Weather table\n",
        "weather_data = [\n",
        "    ('Mumbai', 'India', 'Winter', 24.8, 5.9),\n",
        "    ('Mumbai', 'India', 'Spring', 28.4, 16.2),\n",
        "    ('Mumbai', 'India', 'Summer', 27.9, 1549.4),\n",
        "    ('Mumbai', 'India', 'Fall', 27.6, 346.0),\n",
        "    ('London', 'United Kingdom', 'Winter', 4.2, 207.7),\n",
        "    ('London', 'United Kingdom', 'Spring', 8.3, 169.6),\n",
        "    ('London', 'United Kingdom', 'Summer', 15.7, 157.0),\n",
        "    ('London', 'United Kingdom', 'Fall', 10.4, 218.5),\n",
        "    ('Cairo', 'Egypt', 'Winter', 13.6, 16.5),\n",
        "    ('Cairo', 'Egypt', 'Spring', 20.7, 6.5),\n",
        "    ('Cairo', 'Egypt', 'Summer', 27.7, 0.1),\n",
        "    ('Cairo', 'Egypt', 'Fall', 22.2, 4.5)\n",
        "]\n",
        "\n",
        "cursor.executemany('INSERT INTO Weather VALUES (?, ?, ?, ?, ?)', weather_data)\n",
        "\n",
        "# Commit changes and close connection\n",
        "conn.commit()\n",
        "conn.close()"
      ],
      "metadata": {
        "id": "xXB0sfVC0bQd"
      },
      "execution_count": 204,
      "outputs": []
    },
    {
      "cell_type": "code",
      "source": [
        "# Reconnect to the database\n",
        "conn = sqlite3.connect('weatherdata.db')\n",
        "cursor = conn.cursor()"
      ],
      "metadata": {
        "id": "9x_0SX_P2joG"
      },
      "execution_count": 209,
      "outputs": []
    },
    {
      "cell_type": "code",
      "source": [
        "# a. All the temperature data.\n",
        "cursor.execute('SELECT Temperature_C FROM Weather')\n",
        "result_a = cursor.fetchall()"
      ],
      "metadata": {
        "id": "YXoMglYq1sxh"
      },
      "execution_count": 210,
      "outputs": []
    },
    {
      "cell_type": "code",
      "source": [
        "print(\"All the temperature data:\")\n",
        "print(tabulate(result_a, headers=[\"Temperature (C)\"], tablefmt=\"grid\"))"
      ],
      "metadata": {
        "colab": {
          "base_uri": "https://localhost:8080/"
        },
        "id": "QkUcl2Yd2bhd",
        "outputId": "3c693b9e-fa91-4eed-b5f6-d54d9fd0377a"
      },
      "execution_count": 211,
      "outputs": [
        {
          "output_type": "stream",
          "name": "stdout",
          "text": [
            "All the temperature data:\n",
            "+-------------------+\n",
            "|   Temperature (C) |\n",
            "+===================+\n",
            "|              24.8 |\n",
            "+-------------------+\n",
            "|              28.4 |\n",
            "+-------------------+\n",
            "|              27.9 |\n",
            "+-------------------+\n",
            "|              27.6 |\n",
            "+-------------------+\n",
            "|               4.2 |\n",
            "+-------------------+\n",
            "|               8.3 |\n",
            "+-------------------+\n",
            "|              15.7 |\n",
            "+-------------------+\n",
            "|              10.4 |\n",
            "+-------------------+\n",
            "|              13.6 |\n",
            "+-------------------+\n",
            "|              20.7 |\n",
            "+-------------------+\n",
            "|              27.7 |\n",
            "+-------------------+\n",
            "|              22.2 |\n",
            "+-------------------+\n"
          ]
        }
      ]
    },
    {
      "cell_type": "code",
      "source": [
        "# b. All the cities, but without repetition.\n",
        "cursor.execute('SELECT DISTINCT City FROM Weather')\n",
        "result_b = cursor.fetchall()\n",
        "print(\"\\nAll the cities, but without repetition:\")\n",
        "print(tabulate(result_b, headers=[\"City\"], tablefmt=\"grid\"))"
      ],
      "metadata": {
        "colab": {
          "base_uri": "https://localhost:8080/"
        },
        "id": "iCV_GwFW1wn-",
        "outputId": "eaa36611-8b52-4511-9885-bee6b9f9ea63"
      },
      "execution_count": 213,
      "outputs": [
        {
          "output_type": "stream",
          "name": "stdout",
          "text": [
            "\n",
            "All the cities, but without repetition:\n",
            "+--------+\n",
            "| City   |\n",
            "+========+\n",
            "| Mumbai |\n",
            "+--------+\n",
            "| London |\n",
            "+--------+\n",
            "| Cairo  |\n",
            "+--------+\n"
          ]
        }
      ]
    },
    {
      "cell_type": "code",
      "source": [
        "# c. All the records for India.\n",
        "cursor.execute('SELECT * FROM Weather WHERE Country = \"India\"')\n",
        "result_c = cursor.fetchall()\n",
        "print(\"\\nAll the records for India:\")\n",
        "print(tabulate(result_c, headers=[\"City\", \"Country\", \"Season\", \"Temperature (C)\", \"Rainfall (mm)\"], tablefmt=\"grid\"))"
      ],
      "metadata": {
        "colab": {
          "base_uri": "https://localhost:8080/"
        },
        "id": "0ajUU8CP1zdp",
        "outputId": "f4e26b79-7c01-4667-aba5-082b46aea09d"
      },
      "execution_count": 214,
      "outputs": [
        {
          "output_type": "stream",
          "name": "stdout",
          "text": [
            "\n",
            "All the records for India:\n",
            "+--------+-----------+----------+-------------------+-----------------+\n",
            "| City   | Country   | Season   |   Temperature (C) |   Rainfall (mm) |\n",
            "+========+===========+==========+===================+=================+\n",
            "| Mumbai | India     | Winter   |              24.8 |             5.9 |\n",
            "+--------+-----------+----------+-------------------+-----------------+\n",
            "| Mumbai | India     | Spring   |              28.4 |            16.2 |\n",
            "+--------+-----------+----------+-------------------+-----------------+\n",
            "| Mumbai | India     | Summer   |              27.9 |          1549.4 |\n",
            "+--------+-----------+----------+-------------------+-----------------+\n",
            "| Mumbai | India     | Fall     |              27.6 |           346   |\n",
            "+--------+-----------+----------+-------------------+-----------------+\n"
          ]
        }
      ]
    },
    {
      "cell_type": "code",
      "source": [
        "# d. All the Fall records.\n",
        "cursor.execute('SELECT * FROM Weather WHERE Season = \"Fall\"')\n",
        "result_d = cursor.fetchall()\n",
        "print(\"\\nAll the Fall records:\")\n",
        "print(tabulate(result_d, headers=[\"City\", \"Country\", \"Season\", \"Temperature (C)\", \"Rainfall (mm)\"], tablefmt=\"grid\"))"
      ],
      "metadata": {
        "colab": {
          "base_uri": "https://localhost:8080/"
        },
        "id": "bpQLapvV14EW",
        "outputId": "7af07a14-fddb-4da5-aab7-dbabb66cf210"
      },
      "execution_count": 215,
      "outputs": [
        {
          "output_type": "stream",
          "name": "stdout",
          "text": [
            "\n",
            "All the Fall records:\n",
            "+--------+----------------+----------+-------------------+-----------------+\n",
            "| City   | Country        | Season   |   Temperature (C) |   Rainfall (mm) |\n",
            "+========+================+==========+===================+=================+\n",
            "| Mumbai | India          | Fall     |              27.6 |           346   |\n",
            "+--------+----------------+----------+-------------------+-----------------+\n",
            "| London | United Kingdom | Fall     |              10.4 |           218.5 |\n",
            "+--------+----------------+----------+-------------------+-----------------+\n",
            "| Cairo  | Egypt          | Fall     |              22.2 |             4.5 |\n",
            "+--------+----------------+----------+-------------------+-----------------+\n"
          ]
        }
      ]
    },
    {
      "cell_type": "code",
      "source": [
        "# e. The city, country, and season for which the average rainfall is between 200 and 400 millimeters.\n",
        "cursor.execute('''\n",
        "    SELECT City, Country, Season\n",
        "    FROM Weather\n",
        "    GROUP BY City, Country, Season\n",
        "    HAVING AVG(Rainfall_mm) BETWEEN 200 AND 400\n",
        "''')\n",
        "result_e = cursor.fetchall()\n",
        "print(\"\\nThe city, country, and season for which the average rainfall is between 200 and 400 millimeters:\")\n",
        "print(tabulate(result_e, headers=[\"City\", \"Country\", \"Season\"], tablefmt=\"grid\"))"
      ],
      "metadata": {
        "colab": {
          "base_uri": "https://localhost:8080/"
        },
        "id": "ZvkfmmxM17KK",
        "outputId": "862f2229-40dd-49a1-c41b-e359cbd1e895"
      },
      "execution_count": 216,
      "outputs": [
        {
          "output_type": "stream",
          "name": "stdout",
          "text": [
            "\n",
            "The city, country, and season for which the average rainfall is between 200 and 400 millimeters:\n",
            "+--------+----------------+----------+\n",
            "| City   | Country        | Season   |\n",
            "+========+================+==========+\n",
            "| London | United Kingdom | Fall     |\n",
            "+--------+----------------+----------+\n",
            "| London | United Kingdom | Winter   |\n",
            "+--------+----------------+----------+\n",
            "| Mumbai | India          | Fall     |\n",
            "+--------+----------------+----------+\n"
          ]
        }
      ]
    },
    {
      "cell_type": "code",
      "source": [
        "# f. The city and country for which the average Fall temperature is above 20 degrees, in increasing temperature order.\n",
        "cursor.execute('''\n",
        "    SELECT City, Country\n",
        "    FROM Weather\n",
        "    WHERE Season = \"Fall\"\n",
        "    GROUP BY City, Country\n",
        "    HAVING AVG(Temperature_C) > 20\n",
        "    ORDER BY AVG(Temperature_C) ASC\n",
        "''')\n",
        "result_f = cursor.fetchall()\n",
        "print(\"\\nThe city and country for which the average Fall temperature is above 20 degrees, in increasing temperature order:\")\n",
        "print(tabulate(result_f, headers=[\"City\", \"Country\"], tablefmt=\"grid\"))"
      ],
      "metadata": {
        "colab": {
          "base_uri": "https://localhost:8080/"
        },
        "id": "vG-M_pgY1-Yw",
        "outputId": "bdb44770-e9d8-479a-c3f8-e102454844a3"
      },
      "execution_count": 217,
      "outputs": [
        {
          "output_type": "stream",
          "name": "stdout",
          "text": [
            "\n",
            "The city and country for which the average Fall temperature is above 20 degrees, in increasing temperature order:\n",
            "+--------+-----------+\n",
            "| City   | Country   |\n",
            "+========+===========+\n",
            "| Cairo  | Egypt     |\n",
            "+--------+-----------+\n",
            "| Mumbai | India     |\n",
            "+--------+-----------+\n"
          ]
        }
      ]
    },
    {
      "cell_type": "code",
      "source": [
        "# g. The total annual rainfall for Cairo.\n",
        "cursor.execute('SELECT SUM(Rainfall_mm) AS TotalRainfall FROM Weather WHERE City = \"Cairo\"')\n",
        "result_g = cursor.fetchone()[0]\n",
        "print(\"\\nThe total annual rainfall for Cairo:\")\n",
        "print(tabulate([[result_g]], headers=[\"Total Rainfall (mm)\"], tablefmt=\"grid\"))"
      ],
      "metadata": {
        "colab": {
          "base_uri": "https://localhost:8080/"
        },
        "id": "NJS0-NDy2A9s",
        "outputId": "faac7891-fa38-490b-d566-aa639ac9373a"
      },
      "execution_count": 218,
      "outputs": [
        {
          "output_type": "stream",
          "name": "stdout",
          "text": [
            "\n",
            "The total annual rainfall for Cairo:\n",
            "+-----------------------+\n",
            "|   Total Rainfall (mm) |\n",
            "+=======================+\n",
            "|                  27.6 |\n",
            "+-----------------------+\n"
          ]
        }
      ]
    },
    {
      "cell_type": "code",
      "source": [
        "# h. The total rainfall for each season.\n",
        "cursor.execute('SELECT Season, SUM(Rainfall_mm) AS TotalRainfall FROM Weather GROUP BY Season')\n",
        "result_h = cursor.fetchall()\n",
        "print(\"\\nThe total rainfall for each season:\")\n",
        "print(tabulate(result_h, headers=[\"Season\", \"Total Rainfall (mm)\"], tablefmt=\"grid\"))"
      ],
      "metadata": {
        "colab": {
          "base_uri": "https://localhost:8080/"
        },
        "id": "GN6W5PGM2Cgi",
        "outputId": "6ba05043-c363-461a-93db-faadd54df628"
      },
      "execution_count": 219,
      "outputs": [
        {
          "output_type": "stream",
          "name": "stdout",
          "text": [
            "\n",
            "The total rainfall for each season:\n",
            "+----------+-----------------------+\n",
            "| Season   |   Total Rainfall (mm) |\n",
            "+==========+=======================+\n",
            "| Fall     |                 569   |\n",
            "+----------+-----------------------+\n",
            "| Spring   |                 192.3 |\n",
            "+----------+-----------------------+\n",
            "| Summer   |                1706.5 |\n",
            "+----------+-----------------------+\n",
            "| Winter   |                 230.1 |\n",
            "+----------+-----------------------+\n"
          ]
        }
      ]
    },
    {
      "cell_type": "code",
      "source": [
        "# Close the connection\n",
        "conn.close()"
      ],
      "metadata": {
        "id": "z33h40H22EcN"
      },
      "execution_count": 220,
      "outputs": []
    },
    {
      "cell_type": "markdown",
      "source": [
        "#**Question 9**"
      ],
      "metadata": {
        "id": "ZkUhjO2A4ET0"
      }
    },
    {
      "cell_type": "code",
      "source": [
        "words = ['The', 'quick', 'brown', 'fox', 'jumps', 'over','the', 'lazy', 'dog']"
      ],
      "metadata": {
        "id": "XqZPDIwk4G3M"
      },
      "execution_count": 221,
      "outputs": []
    },
    {
      "cell_type": "code",
      "source": [
        "words"
      ],
      "metadata": {
        "colab": {
          "base_uri": "https://localhost:8080/"
        },
        "id": "fwz7okcu4S2W",
        "outputId": "8345b6c5-3c4b-4ac1-a966-c5d9f0fa0563"
      },
      "execution_count": 224,
      "outputs": [
        {
          "output_type": "execute_result",
          "data": {
            "text/plain": [
              "['The', 'quick', 'brown', 'fox', 'jumps', 'over', 'the', 'lazy', 'dog']"
            ]
          },
          "metadata": {},
          "execution_count": 224
        }
      ]
    },
    {
      "cell_type": "code",
      "source": [
        "# a) ['THE', 'QUICK', 'BROWN', 'FOX', 'JUMPS', 'OVER', 'THE', 'LAZY', 'DOG']\n",
        "print(list(map(str.upper, words)))"
      ],
      "metadata": {
        "colab": {
          "base_uri": "https://localhost:8080/"
        },
        "id": "JVX5xulw4Hxy",
        "outputId": "f9b106ec-104c-45a4-82ad-b7ef07c2d616"
      },
      "execution_count": 228,
      "outputs": [
        {
          "output_type": "stream",
          "name": "stdout",
          "text": [
            "['THE', 'QUICK', 'BROWN', 'FOX', 'JUMPS', 'OVER', 'THE', 'LAZY', 'DOG']\n"
          ]
        }
      ]
    },
    {
      "cell_type": "code",
      "source": [
        "#b) ['the', 'quick', 'brown', 'fox', 'jumps', 'over', 'the', 'lazy', 'dog']\n",
        "print(list(map(str.lower, words)))"
      ],
      "metadata": {
        "colab": {
          "base_uri": "https://localhost:8080/"
        },
        "id": "MbgIz3PG4Nq6",
        "outputId": "934863d3-419b-4694-c9c1-a03d2c1b231e"
      },
      "execution_count": 229,
      "outputs": [
        {
          "output_type": "stream",
          "name": "stdout",
          "text": [
            "['the', 'quick', 'brown', 'fox', 'jumps', 'over', 'the', 'lazy', 'dog']\n"
          ]
        }
      ]
    },
    {
      "cell_type": "code",
      "source": [
        "# c) [3, 5, 5, 3, 5, 4, 3, 4, 3] (the list of lengths of words in list words)\n",
        "print(list(map(len, words)))"
      ],
      "metadata": {
        "colab": {
          "base_uri": "https://localhost:8080/"
        },
        "id": "N6Apacdt4Oj2",
        "outputId": "d85912ea-62a7-4c0d-e3f9-3e95a52dd3f4"
      },
      "execution_count": 230,
      "outputs": [
        {
          "output_type": "stream",
          "name": "stdout",
          "text": [
            "[3, 5, 5, 3, 5, 4, 3, 4, 3]\n"
          ]
        }
      ]
    },
    {
      "cell_type": "code",
      "source": [
        "# d) [['THE', 'the', 3], ['QUICK', 'quick', 5], ['BROWN', 'brown', 5], ['FOX', 'fox', 3], ['JUMPS', 'jumps', 5],['OVER', 'over', 4], ['THE', 'the', 3], ['LAZY', 'lazy', 4], ['DOG', 'dog', 3]]\n",
        "print(list(map(lambda word: [word.upper(), word.lower(), len(word)], words)))"
      ],
      "metadata": {
        "colab": {
          "base_uri": "https://localhost:8080/"
        },
        "id": "ibMuMPsP4XBJ",
        "outputId": "a71d2449-d393-4d64-88dc-276008bb1a6d"
      },
      "execution_count": 231,
      "outputs": [
        {
          "output_type": "stream",
          "name": "stdout",
          "text": [
            "[['THE', 'the', 3], ['QUICK', 'quick', 5], ['BROWN', 'brown', 5], ['FOX', 'fox', 3], ['JUMPS', 'jumps', 5], ['OVER', 'over', 4], ['THE', 'the', 3], ['LAZY', 'lazy', 4], ['DOG', 'dog', 3]]\n"
          ]
        }
      ]
    },
    {
      "cell_type": "code",
      "source": [
        "# e) ['The', 'quick', 'brown', 'fox', 'jumps', 'over', 'the', 'lazy', 'dog']\n",
        "print(list(filter(lambda word: len(word) >= 4, words)))"
      ],
      "metadata": {
        "colab": {
          "base_uri": "https://localhost:8080/"
        },
        "id": "psOjmIfH4aDK",
        "outputId": "313111a0-5491-4f1a-f585-0e52a32bcfbf"
      },
      "execution_count": 232,
      "outputs": [
        {
          "output_type": "stream",
          "name": "stdout",
          "text": [
            "['quick', 'brown', 'jumps', 'over', 'lazy']\n"
          ]
        }
      ]
    }
  ]
}